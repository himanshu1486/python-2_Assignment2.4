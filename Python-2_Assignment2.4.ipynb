{
 "cells": [
  {
   "cell_type": "code",
   "execution_count": 48,
   "metadata": {},
   "outputs": [
    {
     "name": "stdout",
     "output_type": "stream",
     "text": [
      "WE, THE PEOPLE OF INDIA,\n",
      "\f",
      "\f",
      "\f",
      "\f",
      "\f",
      "having solemnly resolved to constitue India into a SOVEREIGN,!\n",
      "\t\f",
      "\f",
      "\f",
      "SOCIALIST , SECULAR , DEMOCRATIC REPUBLIC\n",
      "\t\f",
      "\f",
      "\f",
      "and to secure to all its citizens:\n"
     ]
    }
   ],
   "source": [
    " s_Acadgild_Str = \"WE, THE PEOPLE OF INDIA,\\n\\f\\f\\f\\f\\fhaving solemnly resolved to constitue India into a SOVEREIGN,!\\n\\t\\f\\f\\fSOCIALIST , SECULAR , DEMOCRATIC REPUBLIC\\n\\t\\f\\f\\fand to secure to all its citizens:\" \n",
    "print (s_Acadgild_Str)\n",
    " \n",
    "\n",
    " "
   ]
  },
  {
   "cell_type": "code",
   "execution_count": null,
   "metadata": {},
   "outputs": [],
   "source": []
  }
 ],
 "metadata": {
  "kernelspec": {
   "display_name": "Python 3",
   "language": "python",
   "name": "python3"
  },
  "language_info": {
   "codemirror_mode": {
    "name": "ipython",
    "version": 3
   },
   "file_extension": ".py",
   "mimetype": "text/x-python",
   "name": "python",
   "nbconvert_exporter": "python",
   "pygments_lexer": "ipython3",
   "version": "3.6.4"
  }
 },
 "nbformat": 4,
 "nbformat_minor": 2
}
